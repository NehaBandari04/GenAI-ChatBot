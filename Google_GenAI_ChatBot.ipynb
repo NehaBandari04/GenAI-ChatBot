{
  "cells": [
    {
      "cell_type": "markdown",
      "metadata": {
        "id": "view-in-github",
        "colab_type": "text"
      },
      "source": [
        "<a href=\"https://colab.research.google.com/github/NehaBandari04/GenAI-ChatBot/blob/main/Google_GenAI_ChatBot.ipynb\" target=\"_parent\"><img src=\"https://colab.research.google.com/assets/colab-badge.svg\" alt=\"Open In Colab\"/></a>"
      ]
    },
    {
      "cell_type": "code",
      "execution_count": null,
      "metadata": {
        "colab": {
          "base_uri": "https://localhost:8080/"
        },
        "id": "51DUjbpMlqzS",
        "outputId": "492ef0b9-b0da-41c3-8609-bb7dae86fd36"
      },
      "outputs": [
        {
          "name": "stdout",
          "output_type": "stream",
          "text": [
            "Requirement already satisfied: Flask in /usr/local/lib/python3.10/dist-packages (2.2.5)\n",
            "Collecting pyngrok\n",
            "  Downloading pyngrok-7.1.6-py3-none-any.whl (22 kB)\n",
            "Requirement already satisfied: Werkzeug>=2.2.2 in /usr/local/lib/python3.10/dist-packages (from Flask) (3.0.3)\n",
            "Requirement already satisfied: Jinja2>=3.0 in /usr/local/lib/python3.10/dist-packages (from Flask) (3.1.4)\n",
            "Requirement already satisfied: itsdangerous>=2.0 in /usr/local/lib/python3.10/dist-packages (from Flask) (2.2.0)\n",
            "Requirement already satisfied: click>=8.0 in /usr/local/lib/python3.10/dist-packages (from Flask) (8.1.7)\n",
            "Requirement already satisfied: PyYAML>=5.1 in /usr/local/lib/python3.10/dist-packages (from pyngrok) (6.0.1)\n",
            "Requirement already satisfied: MarkupSafe>=2.0 in /usr/local/lib/python3.10/dist-packages (from Jinja2>=3.0->Flask) (2.1.5)\n",
            "Installing collected packages: pyngrok\n",
            "Successfully installed pyngrok-7.1.6\n",
            "Requirement already satisfied: pyngrok in /usr/local/lib/python3.10/dist-packages (7.1.6)\n",
            "Requirement already satisfied: PyYAML>=5.1 in /usr/local/lib/python3.10/dist-packages (from pyngrok) (6.0.1)\n"
          ]
        }
      ],
      "source": [
        "!pip install Flask pyngrok\n",
        "!pip install pyngrok"
      ]
    },
    {
      "cell_type": "code",
      "execution_count": null,
      "metadata": {
        "colab": {
          "base_uri": "https://localhost:8080/"
        },
        "id": "q0ROQJXWlwkJ",
        "outputId": "54d7fcc7-a6a8-440c-9552-72fc075648a7"
      },
      "outputs": [
        {
          "name": "stdout",
          "output_type": "stream",
          "text": [
            " * ngrok tunnel \"NgrokTunnel: \"https://a485-35-225-74-73.ngrok-free.app\" -> \"http://localhost:5000\"\" -> \"http://127.0.0.1:5000/\"\n"
          ]
        }
      ],
      "source": [
        "from pyngrok import ngrok\n",
        "\n",
        "# Replace 'your_authtoken' with your actual ngrok authtoken\n",
        "ngrok.set_auth_token('2hJPyQwNk7EEKRG7KnvIJiS0e88_4JqCmXsaeMuk4KTDtp6Mj')\n",
        "\n",
        "# Run Flask app\n",
        "public_url = ngrok.connect(5000)\n",
        "print(f\" * ngrok tunnel \\\"{public_url}\\\" -> \\\"http://127.0.0.1:5000/\\\"\")\n",
        "\n"
      ]
    },
    {
      "cell_type": "code",
      "execution_count": null,
      "metadata": {
        "colab": {
          "background_save": true,
          "base_uri": "https://localhost:8080/"
        },
        "id": "bneJfxbpl6d8",
        "outputId": "ddd9cac0-9d21-4544-9f3d-fd4dd73e2319"
      },
      "outputs": [
        {
          "name": "stdout",
          "output_type": "stream",
          "text": [
            " * ngrok tunnel \"NgrokTunnel: \"https://b1a1-35-225-74-73.ngrok-free.app\" -> \"http://localhost:5000\"\" -> \"http://127.0.0.1:5000/\"\n",
            " * Serving Flask app '__main__'\n",
            " * Debug mode: off\n"
          ]
        },
        {
          "name": "stderr",
          "output_type": "stream",
          "text": [
            "INFO:werkzeug:\u001b[31m\u001b[1mWARNING: This is a development server. Do not use it in a production deployment. Use a production WSGI server instead.\u001b[0m\n",
            " * Running on http://127.0.0.1:5000\n",
            "INFO:werkzeug:\u001b[33mPress CTRL+C to quit\u001b[0m\n",
            "INFO:werkzeug:127.0.0.1 - - [02/Jun/2024 08:39:14] \"GET / HTTP/1.1\" 200 -\n",
            "INFO:werkzeug:127.0.0.1 - - [02/Jun/2024 08:39:14] \"\u001b[33mGET /favicon.ico HTTP/1.1\u001b[0m\" 404 -\n",
            "INFO:werkzeug:127.0.0.1 - - [02/Jun/2024 08:39:22] \"POST /get HTTP/1.1\" 200 -\n",
            "INFO:werkzeug:127.0.0.1 - - [02/Jun/2024 08:40:24] \"POST /get HTTP/1.1\" 200 -\n",
            "INFO:werkzeug:127.0.0.1 - - [02/Jun/2024 08:40:52] \"POST /get HTTP/1.1\" 200 -\n",
            "INFO:werkzeug:127.0.0.1 - - [02/Jun/2024 08:42:02] \"POST /get HTTP/1.1\" 200 -\n",
            "INFO:werkzeug:127.0.0.1 - - [02/Jun/2024 08:42:31] \"POST /get HTTP/1.1\" 200 -\n",
            "INFO:werkzeug:127.0.0.1 - - [02/Jun/2024 08:42:45] \"POST /get HTTP/1.1\" 200 -\n"
          ]
        }
      ],
      "source": [
        "from flask import Flask, request, render_template_string\n",
        "from google.colab import auth\n",
        "import vertexai\n",
        "from pyngrok import ngrok\n",
        "\n",
        "# Authenticate user with Google Colab\n",
        "auth.authenticate_user()\n",
        "\n",
        "# Google Cloud Project details\n",
        "PROJECT_ID = \"cellular-motif-424606-t7\"\n",
        "LOCATION = \"us-central1\"\n",
        "\n",
        "# Initialize Vertex AI\n",
        "vertexai.init(project=PROJECT_ID, location=LOCATION)\n",
        "\n",
        "# Create Flask app\n",
        "app = Flask(__name__)\n",
        "\n",
        "def create_session():\n",
        "    chat_model = vertexai.language_models.ChatModel.from_pretrained(\"chat-bison@001\")\n",
        "    chat = chat_model.start_chat()\n",
        "    return chat\n",
        "\n",
        "chat = create_session()\n",
        "\n",
        "def response(chat, message):\n",
        "    parameters = {\n",
        "        \"temperature\": 0.2,\n",
        "        \"max_output_tokens\": 256,\n",
        "        \"top_p\": 0.8,\n",
        "        \"top_k\": 40\n",
        "    }\n",
        "    result = chat.send_message(message, **parameters)\n",
        "    return result.text\n",
        "\n",
        "@app.route('/')\n",
        "def home():\n",
        "    return render_template_string('''\n",
        "    <!DOCTYPE html>\n",
        "    <html lang=\"en\">\n",
        "    <head>\n",
        "        <meta charset=\"UTF-8\">\n",
        "        <meta name=\"viewport\" content=\"width=device-width, initial-scale=1.0\">\n",
        "        <title>Google GEN-AI ChatBot</title>\n",
        "        <style>\n",
        "            body {\n",
        "                display: flex;\n",
        "                justify-content: center;\n",
        "                align-items: center;\n",
        "                height: 100vh;\n",
        "                margin: 0;\n",
        "                background-color: #f5f5f5;\n",
        "                font-family: Arial, sans-serif;\n",
        "            }\n",
        "            #chat-container {\n",
        "                display: flex;\n",
        "                flex-direction: column;\n",
        "                width: 60%;\n",
        "                max-width: 600px;\n",
        "                height: 80%;\n",
        "                max-height: 700px;\n",
        "                border: 1px solid #ccc;\n",
        "                border-radius: 8px;\n",
        "                box-shadow: 0 2px 10px rgba(0,0,0,0.1);\n",
        "                background-color: #fff;\n",
        "            }\n",
        "            #chat-header {\n",
        "                padding: 10px;\n",
        "                background-color: #007bff;\n",
        "                color: white;\n",
        "                text-align: center;\n",
        "                font-size: 20px;\n",
        "                font-weight: bold;\n",
        "                border-top-left-radius: 8px;\n",
        "                border-top-right-radius: 8px;\n",
        "            }\n",
        "            #chatbox {\n",
        "                flex: 1;\n",
        "                padding: 20px;\n",
        "                overflow-y: scroll;\n",
        "                border-bottom: 1px solid #eee;\n",
        "            }\n",
        "            #chatbox p {\n",
        "                margin: 0 0 10px;\n",
        "            }\n",
        "            #userInput {\n",
        "                width: calc(100% - 110px);\n",
        "                padding: 10px;\n",
        "                border: 1px solid #ccc;\n",
        "                border-radius: 4px;\n",
        "            }\n",
        "            #sendButton {\n",
        "                padding: 10px 20px;\n",
        "                margin-left: 10px;\n",
        "                border: none;\n",
        "                background-color: #007bff;\n",
        "                color: #fff;\n",
        "                border-radius: 4px;\n",
        "                cursor: pointer;\n",
        "            }\n",
        "            #sendButton:hover {\n",
        "                background-color: #0056b3;\n",
        "            }\n",
        "            form {\n",
        "                display: flex;\n",
        "                padding: 20px;\n",
        "                background-color: #fafafa;\n",
        "                border-bottom-left-radius: 8px;\n",
        "                border-bottom-right-radius: 8px;\n",
        "                border-top: 1px solid #eee;\n",
        "            }\n",
        "        </style>\n",
        "    </head>\n",
        "    <body>\n",
        "        <div id=\"chat-container\">\n",
        "            <div id=\"chat-header\">Google GEN-AI ChatBot</div>\n",
        "            <div id=\"chatbox\"></div>\n",
        "            <form id=\"chatForm\" method=\"post\">\n",
        "                <input type=\"text\" id=\"userInput\" name=\"msg\" autocomplete=\"off\" placeholder=\"Type a message\">\n",
        "                <button type=\"submit\" id=\"sendButton\">Send</button>\n",
        "            </form>\n",
        "        </div>\n",
        "\n",
        "        <script>\n",
        "            const form = document.getElementById('chatForm');\n",
        "            const input = document.getElementById('userInput');\n",
        "            const chatbox = document.getElementById('chatbox');\n",
        "\n",
        "            form.addEventListener('submit', async (e) => {\n",
        "                e.preventDefault();\n",
        "                const userMessage = input.value;\n",
        "                appendMessage('You: ' + userMessage);\n",
        "\n",
        "                const response = await fetch('/get', {\n",
        "                    method: 'POST',\n",
        "                    headers: {\n",
        "                        'Content-Type': 'application/x-www-form-urlencoded',\n",
        "                    },\n",
        "                    body: new URLSearchParams({\n",
        "                        msg: userMessage,\n",
        "                    }),\n",
        "                });\n",
        "                const botMessage = await response.text();\n",
        "                appendMessage('AI: ' + botMessage);\n",
        "                input.value = '';\n",
        "            });\n",
        "\n",
        "            function appendMessage(message) {\n",
        "                const p = document.createElement('p');\n",
        "                p.textContent = message;\n",
        "                chatbox.appendChild(p);\n",
        "                chatbox.scrollTop = chatbox.scrollHeight;\n",
        "            }\n",
        "        </script>\n",
        "    </body>\n",
        "    </html>\n",
        "    ''')\n",
        "\n",
        "@app.route('/get', methods=['POST'])\n",
        "def get_bot_response():\n",
        "    userText = request.form['msg']\n",
        "    return response(chat, userText)\n",
        "\n",
        "# Authenticate ngrok and start tunnel\n",
        "ngrok.set_auth_token('2hJPyQwNk7EEKRG7KnvIJiS0e88_4JqCmXsaeMuk4KTDtp6Mj')\n",
        "public_url = ngrok.connect(5000)\n",
        "print(f\" * ngrok tunnel \\\"{public_url}\\\" -> \\\"http://127.0.0.1:5000/\\\"\")\n",
        "\n",
        "# Run the Flask app\n",
        "app.run()\n"
      ]
    }
  ],
  "metadata": {
    "colab": {
      "provenance": [],
      "authorship_tag": "ABX9TyMVM08GBK8Lu0c9k/Ur7neP",
      "include_colab_link": true
    },
    "kernelspec": {
      "display_name": "Python 3",
      "name": "python3"
    },
    "language_info": {
      "name": "python"
    }
  },
  "nbformat": 4,
  "nbformat_minor": 0
}